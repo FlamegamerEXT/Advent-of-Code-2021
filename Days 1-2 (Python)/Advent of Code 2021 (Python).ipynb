{
 "cells": [
  {
   "cell_type": "code",
   "execution_count": 1,
   "id": "733adb80",
   "metadata": {},
   "outputs": [],
   "source": [
    "import numpy as np"
   ]
  },
  {
   "cell_type": "code",
   "execution_count": 2,
   "id": "ffb74c60",
   "metadata": {},
   "outputs": [
    {
     "name": "stdout",
     "output_type": "stream",
     "text": [
      "Part 1: Increases - 1288\n",
      "Part 2: Increases - 1311\n"
     ]
    }
   ],
   "source": [
    "## DAY 1 ##\n",
    "ss = open(\"Sonar Sweep.txt\", \"r\")\n",
    "\n",
    "nums = [-1, -1, -1, -1]\n",
    "increasesP1 = 0\n",
    "increasesP2 = 0\n",
    "\n",
    "for line in ss:\n",
    "    nums[3] = int(line)\n",
    "    # Count of increases for part 1\n",
    "    if ((nums[2] != -1)and(nums[2] < nums[3])):\n",
    "        increasesP1+=1\n",
    "    # Count of the 'sum of three' increases for part 2\n",
    "    if ((nums[0] != -1)and(nums[0]+nums[1]+nums[2] < nums[1]+nums[2]+nums[3])):\n",
    "        increasesP2+=1\n",
    "    \n",
    "    for i in range(3):\n",
    "        nums[i] = nums[i+1]\n",
    "\n",
    "print(\"Part 1: Increases - \"+str(increasesP1))\n",
    "print(\"Part 2: Increases - \"+str(increasesP2))"
   ]
  },
  {
   "cell_type": "code",
   "execution_count": 7,
   "id": "4378c5af",
   "metadata": {},
   "outputs": [
    {
     "name": "stdout",
     "output_type": "stream",
     "text": [
      "Part 1 - Total: 2322630\n",
      "Part 2 - Total: 2105273490\n"
     ]
    }
   ],
   "source": [
    "## DAY 2 ##\n",
    "d = open(\"Dive.txt\", \"r\")\n",
    "\n",
    "vertical = 0\n",
    "horizontal = 0\n",
    "aim = 0\n",
    "\n",
    "for l in d:\n",
    "    line = str(l)\n",
    "    direction = line[:-3]\n",
    "    amount = int(line[-2])\n",
    "    if (direction == \"up\"):\n",
    "        aim -= amount\n",
    "    elif (direction == \"down\"):\n",
    "        aim += amount\n",
    "    else: # forward\n",
    "        horizontal += amount\n",
    "        vertical += (aim*amount)\n",
    "\n",
    "print(\"Part 1 - Total:\", aim*horizontal)\n",
    "print(\"Part 2 - Total:\", vertical*horizontal)"
   ]
  },
  {
   "cell_type": "markdown",
   "id": "71d63d2f",
   "metadata": {},
   "source": [
    "Initially I intended to complete the Advent of Code challenges in both Java and Python. However, Java quickly proved to be the easier of the two to complete with my knowledge of the two languages at the time. It would be interesting to go back and rewrite my Java programs in Python, but for now these will be the only programs written in both languages."
   ]
  }
 ],
 "metadata": {
  "kernelspec": {
   "display_name": "Python 3",
   "language": "python",
   "name": "python3"
  },
  "language_info": {
   "codemirror_mode": {
    "name": "ipython",
    "version": 3
   },
   "file_extension": ".py",
   "mimetype": "text/x-python",
   "name": "python",
   "nbconvert_exporter": "python",
   "pygments_lexer": "ipython3",
   "version": "3.8.8"
  }
 },
 "nbformat": 4,
 "nbformat_minor": 5
}
